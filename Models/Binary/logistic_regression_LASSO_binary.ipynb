{
 "cells": [
  {
   "cell_type": "code",
   "execution_count": 1,
   "id": "dbcc751c",
   "metadata": {},
   "outputs": [],
   "source": [
    "import tensorflow as tf\n",
    "import matplotlib.pyplot as plt\n",
    "import numpy as np\n",
    "\n",
    "import pandas as pd\n",
    "import numpy as np\n",
    "import os\n",
    "import matplotlib.pyplot as plt\n",
    "\n",
    "from sklearn.preprocessing import MinMaxScaler\n",
    "from sklearn.model_selection import train_test_split\n",
    "from sklearn.metrics import log_loss, confusion_matrix, roc_curve, RocCurveDisplay\n",
    "\n",
    "import seaborn as sns"
   ]
  },
  {
   "cell_type": "code",
   "execution_count": 2,
   "id": "ba3e921d",
   "metadata": {},
   "outputs": [],
   "source": [
    "chunks = pd.read_csv(\"data/Family1.csv\", chunksize=300000)\n",
    "dfs = pd.concat(chunks)\n",
    "dfs = dfs.drop(columns='Unnamed: 0')"
   ]
  },
  {
   "cell_type": "code",
   "execution_count": 4,
   "id": "5bea07f5",
   "metadata": {},
   "outputs": [
    {
     "data": {
      "text/plain": [
       "Index(['MI_dir_L5_weight', 'MI_dir_L5_mean', 'MI_dir_L5_variance',\n",
       "       'MI_dir_L3_weight', 'MI_dir_L3_mean', 'MI_dir_L3_variance',\n",
       "       'MI_dir_L1_weight', 'MI_dir_L1_mean', 'MI_dir_L1_variance',\n",
       "       'MI_dir_L0.1_weight',\n",
       "       ...\n",
       "       'HpHp_L0.1_pcc', 'HpHp_L0.01_weight', 'HpHp_L0.01_mean',\n",
       "       'HpHp_L0.01_std', 'HpHp_L0.01_magnitude', 'HpHp_L0.01_radius',\n",
       "       'HpHp_L0.01_covariance', 'HpHp_L0.01_pcc', 'Threat_Binary', 'Threat'],\n",
       "      dtype='object', length=117)"
      ]
     },
     "execution_count": 4,
     "metadata": {},
     "output_type": "execute_result"
    }
   ],
   "source": [
    "dfs.columns"
   ]
  },
  {
   "cell_type": "code",
   "execution_count": 5,
   "id": "1e35a7c2",
   "metadata": {},
   "outputs": [],
   "source": [
    "X = dfs.drop(columns=[\"Threat_Binary\"])\n",
    "y = dfs[\"Threat_Binary\"]\n",
    "X_train, X_test_val, y_train, y_test_val = train_test_split(X, y, test_size=0.15, random_state=42)\n",
    "\n",
    "X_test, X_val, y_test, y_val =  train_test_split(X_test_val, y_test_val, test_size=0.50, random_state=42)"
   ]
  },
  {
   "cell_type": "code",
   "execution_count": 6,
   "id": "5d49269f",
   "metadata": {},
   "outputs": [],
   "source": [
    "# normalize X_train and X_test\n",
    "scaler = MinMaxScaler()\n",
    "X_train_scaled = scaler.fit_transform(X_train)\n",
    "X_test_scaled = scaler.transform(X_test)\n",
    "X_val_scaled = scaler.transform(X_val)\n",
    "\n",
    "df_X_train_scaled = pd.DataFrame(X_train_scaled, columns=X_train.columns) #.drop(columns='Unnamed: 0')\n",
    "df_X_train_scaled[\"Threat\"] = (df_X_train_scaled[\"Threat\"]*10).astype(int)\n"
   ]
  },
  {
   "cell_type": "code",
   "execution_count": 7,
   "id": "132a4f21",
   "metadata": {},
   "outputs": [],
   "source": [
    "# undersample malicious traffic\n",
    "df_y_train = pd.DataFrame(y_train).reset_index().drop(columns=\"index\")\n",
    "df_X = pd.concat([df_X_train_scaled, df_y_train], axis=1)\n",
    "n_benign = len(X_train[X_train[\"Threat\"]==0])\n",
    "n_total_malicious = len(X_train) - n_benign\n",
    "\n",
    "df_undersampled = []\n",
    "\n",
    "for attack in range(1,11):\n",
    "    df_curr = df_X[df_X[\"Threat\"]==attack]\n",
    "    target_sample = round(n_benign * len(df_curr) / n_total_malicious)\n",
    "    df_undersampled.append(df_curr.sample(n = target_sample, random_state=40))\n",
    "    \n",
    "df_undersampled.append(df_X[df_X[\"Threat\"]==0])\n",
    "\n",
    "df_X_train_all = pd.concat(df_undersampled, ignore_index=True) \n",
    "df_X_train = df_X_train_all.drop(columns=\"Threat\")"
   ]
  },
  {
   "cell_type": "code",
   "execution_count": 8,
   "id": "99cd8f11",
   "metadata": {
    "scrolled": true
   },
   "outputs": [
    {
     "data": {
      "text/plain": [
       "Index(['MI_dir_L5_weight', 'MI_dir_L5_mean', 'MI_dir_L5_variance',\n",
       "       'MI_dir_L3_weight', 'MI_dir_L3_mean', 'MI_dir_L3_variance',\n",
       "       'MI_dir_L1_weight', 'MI_dir_L1_mean', 'MI_dir_L1_variance',\n",
       "       'MI_dir_L0.1_weight',\n",
       "       ...\n",
       "       'HpHp_L0.1_covariance', 'HpHp_L0.1_pcc', 'HpHp_L0.01_weight',\n",
       "       'HpHp_L0.01_mean', 'HpHp_L0.01_std', 'HpHp_L0.01_magnitude',\n",
       "       'HpHp_L0.01_radius', 'HpHp_L0.01_covariance', 'HpHp_L0.01_pcc',\n",
       "       'Threat_Binary'],\n",
       "      dtype='object', length=116)"
      ]
     },
     "execution_count": 8,
     "metadata": {},
     "output_type": "execute_result"
    }
   ],
   "source": [
    "df_X_train.columns"
   ]
  },
  {
   "cell_type": "code",
   "execution_count": 9,
   "id": "d226243f",
   "metadata": {},
   "outputs": [],
   "source": [
    "df_plot = df_X_train_all['Threat'].value_counts().sort_index().reset_index()"
   ]
  },
  {
   "cell_type": "code",
   "execution_count": 10,
   "id": "9d281fdc",
   "metadata": {},
   "outputs": [
    {
     "data": {
      "text/html": [
       "<div>\n",
       "<style scoped>\n",
       "    .dataframe tbody tr th:only-of-type {\n",
       "        vertical-align: middle;\n",
       "    }\n",
       "\n",
       "    .dataframe tbody tr th {\n",
       "        vertical-align: top;\n",
       "    }\n",
       "\n",
       "    .dataframe thead th {\n",
       "        text-align: right;\n",
       "    }\n",
       "</style>\n",
       "<table border=\"1\" class=\"dataframe\">\n",
       "  <thead>\n",
       "    <tr style=\"text-align: right;\">\n",
       "      <th></th>\n",
       "      <th>Threat</th>\n",
       "      <th>count</th>\n",
       "    </tr>\n",
       "  </thead>\n",
       "  <tbody>\n",
       "    <tr>\n",
       "      <th>0</th>\n",
       "      <td>0</td>\n",
       "      <td>42031</td>\n",
       "    </tr>\n",
       "    <tr>\n",
       "      <th>1</th>\n",
       "      <td>1</td>\n",
       "      <td>2594</td>\n",
       "    </tr>\n",
       "    <tr>\n",
       "      <th>2</th>\n",
       "      <td>2</td>\n",
       "      <td>1258</td>\n",
       "    </tr>\n",
       "    <tr>\n",
       "      <th>3</th>\n",
       "      <td>3</td>\n",
       "      <td>1292</td>\n",
       "    </tr>\n",
       "    <tr>\n",
       "      <th>4</th>\n",
       "      <td>4</td>\n",
       "      <td>4002</td>\n",
       "    </tr>\n",
       "    <tr>\n",
       "      <th>5</th>\n",
       "      <td>5</td>\n",
       "      <td>4597</td>\n",
       "    </tr>\n",
       "    <tr>\n",
       "      <th>6</th>\n",
       "      <td>6</td>\n",
       "      <td>4439</td>\n",
       "    </tr>\n",
       "    <tr>\n",
       "      <th>7</th>\n",
       "      <td>7</td>\n",
       "      <td>4675</td>\n",
       "    </tr>\n",
       "    <tr>\n",
       "      <th>8</th>\n",
       "      <td>8</td>\n",
       "      <td>5316</td>\n",
       "    </tr>\n",
       "    <tr>\n",
       "      <th>9</th>\n",
       "      <td>9</td>\n",
       "      <td>10296</td>\n",
       "    </tr>\n",
       "    <tr>\n",
       "      <th>10</th>\n",
       "      <td>10</td>\n",
       "      <td>3562</td>\n",
       "    </tr>\n",
       "  </tbody>\n",
       "</table>\n",
       "</div>"
      ],
      "text/plain": [
       "    Threat  count\n",
       "0        0  42031\n",
       "1        1   2594\n",
       "2        2   1258\n",
       "3        3   1292\n",
       "4        4   4002\n",
       "5        5   4597\n",
       "6        6   4439\n",
       "7        7   4675\n",
       "8        8   5316\n",
       "9        9  10296\n",
       "10      10   3562"
      ]
     },
     "execution_count": 10,
     "metadata": {},
     "output_type": "execute_result"
    }
   ],
   "source": [
    "df_plot"
   ]
  },
  {
   "cell_type": "code",
   "execution_count": 11,
   "id": "e19f13e6",
   "metadata": {},
   "outputs": [
    {
     "data": {
      "image/png": "[encoded data removed]",
      "text/plain": [
       "<Figure size 640x480 with 1 Axes>"
      ]
     },
     "metadata": {},
     "output_type": "display_data"
    }
   ],
   "source": [
    "plt.bar(df_plot[\"Threat\"], df_plot[\"count\"])\n",
    "plt.show()"
   ]
  },
  {
   "cell_type": "markdown",
   "id": "0ac642ce",
   "metadata": {},
   "source": [
    "# Feature selection"
   ]
  },
  {
   "cell_type": "code",
   "execution_count": 12,
   "id": "b4e21543",
   "metadata": {},
   "outputs": [],
   "source": [
    "from sklearn.linear_model import Lasso"
   ]
  },
  {
   "cell_type": "code",
   "execution_count": 13,
   "id": "27572b6b",
   "metadata": {},
   "outputs": [],
   "source": [
    "X = df_X_train.drop(columns=\"Threat_Binary\")\n",
    "y = df_X_train[\"Threat_Binary\"]"
   ]
  },
  {
   "cell_type": "code",
   "execution_count": 14,
   "id": "23fa39e1",
   "metadata": {
    "scrolled": true
   },
   "outputs": [],
   "source": [
    "model = Lasso(alpha = 0.02)\n",
    "model.fit(X, y)\n",
    "\n",
    "selected_indices = np.where(model.coef_ != 0)[0]\n",
    "selected_features = X.iloc[:,selected_indices]"
   ]
  },
  {
   "cell_type": "code",
   "execution_count": 15,
   "id": "c8c74b64",
   "metadata": {},
   "outputs": [
    {
     "data": {
      "text/plain": [
       "array([ 0.00000000e+00,  0.00000000e+00,  0.00000000e+00,  0.00000000e+00,\n",
       "        0.00000000e+00,  0.00000000e+00,  0.00000000e+00,  0.00000000e+00,\n",
       "        0.00000000e+00,  5.46389864e-01,  0.00000000e+00,  0.00000000e+00,\n",
       "        0.00000000e+00,  0.00000000e+00,  0.00000000e+00,  0.00000000e+00,\n",
       "        0.00000000e+00,  0.00000000e+00,  0.00000000e+00,  0.00000000e+00,\n",
       "        0.00000000e+00,  0.00000000e+00,  0.00000000e+00,  0.00000000e+00,\n",
       "        0.00000000e+00,  0.00000000e+00,  0.00000000e+00,  0.00000000e+00,\n",
       "        0.00000000e+00,  0.00000000e+00,  0.00000000e+00,  0.00000000e+00,\n",
       "        0.00000000e+00,  0.00000000e+00,  0.00000000e+00, -0.00000000e+00,\n",
       "       -0.00000000e+00,  0.00000000e+00,  0.00000000e+00,  0.00000000e+00,\n",
       "        0.00000000e+00,  0.00000000e+00, -0.00000000e+00, -0.00000000e+00,\n",
       "        0.00000000e+00,  0.00000000e+00, -0.00000000e+00,  0.00000000e+00,\n",
       "       -0.00000000e+00, -0.00000000e+00, -0.00000000e+00,  2.20122256e-01,\n",
       "        0.00000000e+00, -0.00000000e+00,  0.00000000e+00,  0.00000000e+00,\n",
       "       -0.00000000e+00, -0.00000000e+00,  2.17860626e-01,  0.00000000e+00,\n",
       "       -0.00000000e+00,  0.00000000e+00,  0.00000000e+00,  0.00000000e+00,\n",
       "       -0.00000000e+00,  0.00000000e+00,  0.00000000e+00, -0.00000000e+00,\n",
       "        0.00000000e+00,  0.00000000e+00, -0.00000000e+00,  0.00000000e+00,\n",
       "        0.00000000e+00,  0.00000000e+00,  0.00000000e+00,  0.00000000e+00,\n",
       "        0.00000000e+00,  1.20477493e-14,  6.05651600e-01,  0.00000000e+00,\n",
       "        0.00000000e+00,  0.00000000e+00, -0.00000000e+00,  0.00000000e+00,\n",
       "       -0.00000000e+00, -0.00000000e+00, -0.00000000e+00,  0.00000000e+00,\n",
       "        0.00000000e+00, -0.00000000e+00,  0.00000000e+00, -0.00000000e+00,\n",
       "       -0.00000000e+00, -0.00000000e+00,  0.00000000e+00,  0.00000000e+00,\n",
       "       -0.00000000e+00,  0.00000000e+00, -0.00000000e+00, -0.00000000e+00,\n",
       "       -0.00000000e+00,  0.00000000e+00,  0.00000000e+00, -0.00000000e+00,\n",
       "        0.00000000e+00,  0.00000000e+00,  0.00000000e+00, -0.00000000e+00,\n",
       "        0.00000000e+00,  0.00000000e+00, -0.00000000e+00,  0.00000000e+00,\n",
       "        0.00000000e+00,  0.00000000e+00, -0.00000000e+00])"
      ]
     },
     "execution_count": 15,
     "metadata": {},
     "output_type": "execute_result"
    }
   ],
   "source": [
    "model.coef_"
   ]
  },
  {
   "cell_type": "code",
   "execution_count": 16,
   "id": "0e96053e",
   "metadata": {},
   "outputs": [
    {
     "data": {
      "text/plain": [
       "Index(['MI_dir_L0.1_weight', 'HH_L0.1_weight', 'HH_L0.01_weight',\n",
       "       'HH_jit_L0.01_weight', 'HH_jit_L0.01_mean'],\n",
       "      dtype='object')"
      ]
     },
     "execution_count": 16,
     "metadata": {},
     "output_type": "execute_result"
    }
   ],
   "source": [
    "df_X_train.columns[selected_indices]"
   ]
  },
  {
   "cell_type": "code",
   "execution_count": 17,
   "id": "8e3f5899",
   "metadata": {
    "scrolled": true
   },
   "outputs": [
    {
     "data": {
      "text/plain": [
       "array([ 9, 51, 58, 77, 78], dtype=int64)"
      ]
     },
     "execution_count": 17,
     "metadata": {},
     "output_type": "execute_result"
    }
   ],
   "source": [
    "selected_indices"
   ]
  },
  {
   "cell_type": "code",
   "execution_count": 18,
   "id": "b26d5309",
   "metadata": {},
   "outputs": [
    {
     "data": {
      "text/plain": [
       "array([0.546, 0.22 , 0.218, 0.   , 0.606])"
      ]
     },
     "execution_count": 18,
     "metadata": {},
     "output_type": "execute_result"
    }
   ],
   "source": [
    "np.round(model.coef_[selected_indices],3)"
   ]
  },
  {
   "cell_type": "code",
   "execution_count": 19,
   "id": "684066bf",
   "metadata": {},
   "outputs": [
    {
     "data": {
      "text/html": [
       "<div>\n",
       "<style scoped>\n",
       "    .dataframe tbody tr th:only-of-type {\n",
       "        vertical-align: middle;\n",
       "    }\n",
       "\n",
       "    .dataframe tbody tr th {\n",
       "        vertical-align: top;\n",
       "    }\n",
       "\n",
       "    .dataframe thead th {\n",
       "        text-align: right;\n",
       "    }\n",
       "</style>\n",
       "<table border=\"1\" class=\"dataframe\">\n",
       "  <thead>\n",
       "    <tr style=\"text-align: right;\">\n",
       "      <th></th>\n",
       "      <th>MI_dir_L0.1_weight</th>\n",
       "      <th>HH_L0.1_weight</th>\n",
       "      <th>HH_L0.01_weight</th>\n",
       "      <th>HH_jit_L0.01_weight</th>\n",
       "      <th>HH_jit_L0.01_mean</th>\n",
       "    </tr>\n",
       "  </thead>\n",
       "  <tbody>\n",
       "    <tr>\n",
       "      <th>0</th>\n",
       "      <td>0.827682</td>\n",
       "      <td>0.826612</td>\n",
       "      <td>0.766062</td>\n",
       "      <td>0.766062</td>\n",
       "      <td>1.789501e-05</td>\n",
       "    </tr>\n",
       "    <tr>\n",
       "      <th>1</th>\n",
       "      <td>0.964166</td>\n",
       "      <td>0.964088</td>\n",
       "      <td>0.669858</td>\n",
       "      <td>0.669858</td>\n",
       "      <td>2.292073e-05</td>\n",
       "    </tr>\n",
       "    <tr>\n",
       "      <th>2</th>\n",
       "      <td>0.986507</td>\n",
       "      <td>0.986338</td>\n",
       "      <td>0.627457</td>\n",
       "      <td>0.627457</td>\n",
       "      <td>2.540804e-05</td>\n",
       "    </tr>\n",
       "    <tr>\n",
       "      <th>3</th>\n",
       "      <td>0.318875</td>\n",
       "      <td>0.318630</td>\n",
       "      <td>0.072300</td>\n",
       "      <td>0.072300</td>\n",
       "      <td>3.204715e-04</td>\n",
       "    </tr>\n",
       "    <tr>\n",
       "      <th>4</th>\n",
       "      <td>0.937607</td>\n",
       "      <td>0.937143</td>\n",
       "      <td>0.916729</td>\n",
       "      <td>0.916729</td>\n",
       "      <td>1.281997e-05</td>\n",
       "    </tr>\n",
       "    <tr>\n",
       "      <th>...</th>\n",
       "      <td>...</td>\n",
       "      <td>...</td>\n",
       "      <td>...</td>\n",
       "      <td>...</td>\n",
       "      <td>...</td>\n",
       "    </tr>\n",
       "    <tr>\n",
       "      <th>84057</th>\n",
       "      <td>0.000407</td>\n",
       "      <td>0.000168</td>\n",
       "      <td>0.000246</td>\n",
       "      <td>0.000246</td>\n",
       "      <td>8.297931e-09</td>\n",
       "    </tr>\n",
       "    <tr>\n",
       "      <th>84058</th>\n",
       "      <td>0.000428</td>\n",
       "      <td>0.000009</td>\n",
       "      <td>0.000078</td>\n",
       "      <td>0.000078</td>\n",
       "      <td>2.111978e-08</td>\n",
       "    </tr>\n",
       "    <tr>\n",
       "      <th>84059</th>\n",
       "      <td>0.000469</td>\n",
       "      <td>0.000009</td>\n",
       "      <td>0.000078</td>\n",
       "      <td>0.000078</td>\n",
       "      <td>1.970947e-08</td>\n",
       "    </tr>\n",
       "    <tr>\n",
       "      <th>84060</th>\n",
       "      <td>0.000563</td>\n",
       "      <td>0.000096</td>\n",
       "      <td>0.000233</td>\n",
       "      <td>0.000233</td>\n",
       "      <td>3.499831e-09</td>\n",
       "    </tr>\n",
       "    <tr>\n",
       "      <th>84061</th>\n",
       "      <td>0.000405</td>\n",
       "      <td>0.000009</td>\n",
       "      <td>0.000078</td>\n",
       "      <td>0.000078</td>\n",
       "      <td>1.970554e-08</td>\n",
       "    </tr>\n",
       "  </tbody>\n",
       "</table>\n",
       "<p>84062 rows × 5 columns</p>\n",
       "</div>"
      ],
      "text/plain": [
       "       MI_dir_L0.1_weight  HH_L0.1_weight  HH_L0.01_weight  \\\n",
       "0                0.827682        0.826612         0.766062   \n",
       "1                0.964166        0.964088         0.669858   \n",
       "2                0.986507        0.986338         0.627457   \n",
       "3                0.318875        0.318630         0.072300   \n",
       "4                0.937607        0.937143         0.916729   \n",
       "...                   ...             ...              ...   \n",
       "84057            0.000407        0.000168         0.000246   \n",
       "84058            0.000428        0.000009         0.000078   \n",
       "84059            0.000469        0.000009         0.000078   \n",
       "84060            0.000563        0.000096         0.000233   \n",
       "84061            0.000405        0.000009         0.000078   \n",
       "\n",
       "       HH_jit_L0.01_weight  HH_jit_L0.01_mean  \n",
       "0                 0.766062       1.789501e-05  \n",
       "1                 0.669858       2.292073e-05  \n",
       "2                 0.627457       2.540804e-05  \n",
       "3                 0.072300       3.204715e-04  \n",
       "4                 0.916729       1.281997e-05  \n",
       "...                    ...                ...  \n",
       "84057             0.000246       8.297931e-09  \n",
       "84058             0.000078       2.111978e-08  \n",
       "84059             0.000078       1.970947e-08  \n",
       "84060             0.000233       3.499831e-09  \n",
       "84061             0.000078       1.970554e-08  \n",
       "\n",
       "[84062 rows x 5 columns]"
      ]
     },
     "execution_count": 19,
     "metadata": {},
     "output_type": "execute_result"
    }
   ],
   "source": [
    "X.iloc[:,selected_indices]"
   ]
  },
  {
   "cell_type": "code",
   "execution_count": 20,
   "id": "3a176136",
   "metadata": {},
   "outputs": [
    {
     "data": {
      "text/plain": [
       "(84062,)"
      ]
     },
     "execution_count": 20,
     "metadata": {},
     "output_type": "execute_result"
    }
   ],
   "source": [
    "df_X_train['Threat_Binary'].shape"
   ]
  },
  {
   "cell_type": "markdown",
   "id": "8d5cf197",
   "metadata": {},
   "source": [
    "# Scikit-learn Logistic Regression"
   ]
  },
  {
   "cell_type": "code",
   "execution_count": 21,
   "id": "e2bd31f1",
   "metadata": {},
   "outputs": [],
   "source": [
    "from sklearn.linear_model import LogisticRegression"
   ]
  },
  {
   "cell_type": "code",
   "execution_count": 22,
   "id": "bcf60c0a",
   "metadata": {},
   "outputs": [
    {
     "data": {
      "text/plain": [
       "(865553, 116)"
      ]
     },
     "execution_count": 22,
     "metadata": {},
     "output_type": "execute_result"
    }
   ],
   "source": [
    "X_train_scaled.shape"
   ]
  },
  {
   "cell_type": "code",
   "execution_count": 23,
   "id": "ce888f44",
   "metadata": {},
   "outputs": [
    {
     "data": {
      "text/plain": [
       "(76372, 116)"
      ]
     },
     "execution_count": 23,
     "metadata": {},
     "output_type": "execute_result"
    }
   ],
   "source": [
    "X_test_scaled.shape"
   ]
  },
  {
   "cell_type": "code",
   "execution_count": 24,
   "id": "2c46a65e",
   "metadata": {},
   "outputs": [
    {
     "name": "stdout",
     "output_type": "stream",
     "text": [
      "0.013\n"
     ]
    }
   ],
   "source": [
    "# train the model\n",
    "X = df_X_train.iloc[:,selected_indices]\n",
    "\n",
    "log_reg = LogisticRegression(random_state=0, max_iter=1000).fit(X, y)\n",
    "test_data = pd.DataFrame(X_test_scaled, columns = X_test.columns).loc[:,list(X.columns)]\n",
    "y_pred_prob = log_reg.predict_proba(test_data)\n",
    "\n",
    "# calculate loss\n",
    "logloss = log_loss(y_test, y_pred_prob)\n",
    "print(round(logloss,3))"
   ]
  },
  {
   "cell_type": "code",
   "execution_count": 25,
   "id": "9ecf42e5",
   "metadata": {},
   "outputs": [
    {
     "data": {
      "text/html": [
       "<div>\n",
       "<style scoped>\n",
       "    .dataframe tbody tr th:only-of-type {\n",
       "        vertical-align: middle;\n",
       "    }\n",
       "\n",
       "    .dataframe tbody tr th {\n",
       "        vertical-align: top;\n",
       "    }\n",
       "\n",
       "    .dataframe thead th {\n",
       "        text-align: right;\n",
       "    }\n",
       "</style>\n",
       "<table border=\"1\" class=\"dataframe\">\n",
       "  <thead>\n",
       "    <tr style=\"text-align: right;\">\n",
       "      <th></th>\n",
       "      <th>MI_dir_L0.1_weight</th>\n",
       "      <th>HH_L0.1_weight</th>\n",
       "      <th>HH_L0.01_weight</th>\n",
       "      <th>HH_jit_L0.01_weight</th>\n",
       "      <th>HH_jit_L0.01_mean</th>\n",
       "    </tr>\n",
       "  </thead>\n",
       "  <tbody>\n",
       "    <tr>\n",
       "      <th>0</th>\n",
       "      <td>0.827682</td>\n",
       "      <td>0.826612</td>\n",
       "      <td>0.766062</td>\n",
       "      <td>0.766062</td>\n",
       "      <td>0.000018</td>\n",
       "    </tr>\n",
       "    <tr>\n",
       "      <th>1</th>\n",
       "      <td>0.964166</td>\n",
       "      <td>0.964088</td>\n",
       "      <td>0.669858</td>\n",
       "      <td>0.669858</td>\n",
       "      <td>0.000023</td>\n",
       "    </tr>\n",
       "    <tr>\n",
       "      <th>2</th>\n",
       "      <td>0.986507</td>\n",
       "      <td>0.986338</td>\n",
       "      <td>0.627457</td>\n",
       "      <td>0.627457</td>\n",
       "      <td>0.000025</td>\n",
       "    </tr>\n",
       "  </tbody>\n",
       "</table>\n",
       "</div>"
      ],
      "text/plain": [
       "   MI_dir_L0.1_weight  HH_L0.1_weight  HH_L0.01_weight  HH_jit_L0.01_weight  \\\n",
       "0            0.827682        0.826612         0.766062             0.766062   \n",
       "1            0.964166        0.964088         0.669858             0.669858   \n",
       "2            0.986507        0.986338         0.627457             0.627457   \n",
       "\n",
       "   HH_jit_L0.01_mean  \n",
       "0           0.000018  \n",
       "1           0.000023  \n",
       "2           0.000025  "
      ]
     },
     "execution_count": 25,
     "metadata": {},
     "output_type": "execute_result"
    }
   ],
   "source": [
    "df_X_train.iloc[:,selected_indices].head(3)"
   ]
  },
  {
   "cell_type": "code",
   "execution_count": 26,
   "id": "ad5275bb",
   "metadata": {},
   "outputs": [
    {
     "data": {
      "text/html": [
       "<div>\n",
       "<style scoped>\n",
       "    .dataframe tbody tr th:only-of-type {\n",
       "        vertical-align: middle;\n",
       "    }\n",
       "\n",
       "    .dataframe tbody tr th {\n",
       "        vertical-align: top;\n",
       "    }\n",
       "\n",
       "    .dataframe thead th {\n",
       "        text-align: right;\n",
       "    }\n",
       "</style>\n",
       "<table border=\"1\" class=\"dataframe\">\n",
       "  <thead>\n",
       "    <tr style=\"text-align: right;\">\n",
       "      <th></th>\n",
       "      <th>MI_dir_L0.1_weight</th>\n",
       "      <th>HH_L0.1_weight</th>\n",
       "      <th>HH_L0.01_weight</th>\n",
       "      <th>HH_jit_L0.01_weight</th>\n",
       "      <th>HH_jit_L0.01_mean</th>\n",
       "    </tr>\n",
       "  </thead>\n",
       "  <tbody>\n",
       "    <tr>\n",
       "      <th>0</th>\n",
       "      <td>0.000000</td>\n",
       "      <td>0.000000</td>\n",
       "      <td>0.0000</td>\n",
       "      <td>0.0000</td>\n",
       "      <td>0.998842</td>\n",
       "    </tr>\n",
       "    <tr>\n",
       "      <th>1</th>\n",
       "      <td>0.098258</td>\n",
       "      <td>0.000000</td>\n",
       "      <td>0.0000</td>\n",
       "      <td>0.0000</td>\n",
       "      <td>0.998842</td>\n",
       "    </tr>\n",
       "    <tr>\n",
       "      <th>2</th>\n",
       "      <td>0.813086</td>\n",
       "      <td>0.527935</td>\n",
       "      <td>0.8963</td>\n",
       "      <td>0.8963</td>\n",
       "      <td>0.000003</td>\n",
       "    </tr>\n",
       "  </tbody>\n",
       "</table>\n",
       "</div>"
      ],
      "text/plain": [
       "   MI_dir_L0.1_weight  HH_L0.1_weight  HH_L0.01_weight  HH_jit_L0.01_weight  \\\n",
       "0            0.000000        0.000000           0.0000               0.0000   \n",
       "1            0.098258        0.000000           0.0000               0.0000   \n",
       "2            0.813086        0.527935           0.8963               0.8963   \n",
       "\n",
       "   HH_jit_L0.01_mean  \n",
       "0           0.998842  \n",
       "1           0.998842  \n",
       "2           0.000003  "
      ]
     },
     "execution_count": 26,
     "metadata": {},
     "output_type": "execute_result"
    }
   ],
   "source": [
    "pd.DataFrame(X_test_scaled, columns = X_test.columns).loc[:,list(X.columns)].head(3)"
   ]
  },
  {
   "cell_type": "code",
   "execution_count": 27,
   "id": "370d6c70",
   "metadata": {},
   "outputs": [
    {
     "data": {
      "text/plain": [
       "array([[ 3808,    11],\n",
       "       [  284, 72269]], dtype=int64)"
      ]
     },
     "execution_count": 27,
     "metadata": {},
     "output_type": "execute_result"
    }
   ],
   "source": [
    "y_pred = log_reg.predict(test_data)\n",
    "confusion_matrix(y_test, y_pred)"
   ]
  },
  {
   "cell_type": "code",
   "execution_count": 28,
   "id": "d0450c31",
   "metadata": {},
   "outputs": [
    {
     "name": "stdout",
     "output_type": "stream",
     "text": [
      "Accuracy:0.9961\n"
     ]
    }
   ],
   "source": [
    "acc = log_reg.score(test_data, y_test)\n",
    "print(f\"Accuracy:{round(acc,4)}\")"
   ]
  },
  {
   "cell_type": "code",
   "execution_count": 29,
   "id": "239775ff",
   "metadata": {},
   "outputs": [
    {
     "data": {
      "image/png": "[encoded data removed]",
      "text/plain": [
       "<Figure size 640x480 with 1 Axes>"
      ]
     },
     "metadata": {},
     "output_type": "display_data"
    }
   ],
   "source": [
    "# roc curve\n",
    "# fpr, tpr, threshold = roc_curve(y_test, y_pred)\n",
    "\n",
    "RocCurveDisplay.from_predictions(y_test, y_pred)\n",
    "plt.show()"
   ]
  },
  {
   "cell_type": "markdown",
   "id": "2167b365",
   "metadata": {},
   "source": [
    "# Logistic Regression"
   ]
  },
  {
   "cell_type": "code",
   "execution_count": 30,
   "id": "20a43852",
   "metadata": {},
   "outputs": [],
   "source": [
    "from tensorflow import keras"
   ]
  },
  {
   "cell_type": "code",
   "execution_count": 31,
   "id": "1f24194d",
   "metadata": {},
   "outputs": [],
   "source": [
    "tf.random.set_seed(1)\n",
    "np.random.seed(1)"
   ]
  },
  {
   "cell_type": "code",
   "execution_count": 32,
   "id": "18d310c6",
   "metadata": {},
   "outputs": [
    {
     "data": {
      "text/plain": [
       "Index(['MI_dir_L0.1_weight', 'HH_L0.1_weight', 'HH_L0.01_weight',\n",
       "       'HH_jit_L0.01_weight', 'HH_jit_L0.01_mean'],\n",
       "      dtype='object')"
      ]
     },
     "execution_count": 32,
     "metadata": {},
     "output_type": "execute_result"
    }
   ],
   "source": [
    "df_X_train.columns[selected_indices]"
   ]
  },
  {
   "cell_type": "code",
   "execution_count": 33,
   "id": "5a30eee9",
   "metadata": {},
   "outputs": [],
   "source": [
    "# convert data to tensor\n",
    "## training data\n",
    "numpy_array = df_X_train.iloc[:,selected_indices].to_numpy()\n",
    "x_train = tf.convert_to_tensor(numpy_array, dtype=tf.float32)\n",
    "\n",
    "labels = df_X_train[\"Threat_Binary\"].to_numpy()\n",
    "y_train = tf.convert_to_tensor(labels, dtype=tf.float32)  # Assuming integer labels\n",
    "\n",
    "## testing data\n",
    "x_test_np = pd.DataFrame(X_test_scaled, columns = X_test.columns).loc[:,list(df_X_train.columns[selected_indices])].to_numpy()\n",
    "x_test = tf.convert_to_tensor(x_test_np, dtype=tf.float32)\n",
    "\n",
    "labels_test = y_test.to_numpy()\n",
    "y_test = tf.convert_to_tensor(labels_test, dtype=tf.float32)\n",
    "\n",
    "## validation data\n",
    "x_val_np = pd.DataFrame(X_val_scaled, columns = X_test.columns).loc[:,list(df_X_train.columns[selected_indices])].to_numpy()\n",
    "x_val = tf.convert_to_tensor(x_val_np, dtype=tf.float32)\n",
    "\n",
    "labels_val = y_val.to_numpy()\n",
    "y_val = tf.convert_to_tensor(labels_val, dtype=tf.float32)"
   ]
  },
  {
   "cell_type": "code",
   "execution_count": 39,
   "id": "d01d9c19",
   "metadata": {},
   "outputs": [
    {
     "name": "stdout",
     "output_type": "stream",
     "text": [
      "Epoch 1/40, Loss: 0.4194\n",
      "Epoch 2/40, Loss: 0.1689\n",
      "Epoch 3/40, Loss: 0.0835\n",
      "Epoch 4/40, Loss: 0.0487\n",
      "Epoch 5/40, Loss: 0.0340\n",
      "Epoch 6/40, Loss: 0.0276\n",
      "Epoch 7/40, Loss: 0.0244\n",
      "Epoch 8/40, Loss: 0.0224\n",
      "Epoch 9/40, Loss: 0.0210\n",
      "Epoch 10/40, Loss: 0.0199\n",
      "Epoch 11/40, Loss: 0.0190\n",
      "Epoch 12/40, Loss: 0.0182\n",
      "Epoch 13/40, Loss: 0.0175\n",
      "Epoch 14/40, Loss: 0.0169\n",
      "Epoch 15/40, Loss: 0.0164\n",
      "Epoch 16/40, Loss: 0.0158\n",
      "Epoch 17/40, Loss: 0.0154\n",
      "Epoch 18/40, Loss: 0.0149\n",
      "Epoch 19/40, Loss: 0.0145\n",
      "Epoch 20/40, Loss: 0.0142\n",
      "Epoch 21/40, Loss: 0.0138\n",
      "Epoch 22/40, Loss: 0.0135\n",
      "Epoch 23/40, Loss: 0.0132\n",
      "Epoch 24/40, Loss: 0.0130\n",
      "Epoch 25/40, Loss: 0.0127\n",
      "Epoch 26/40, Loss: 0.0125\n",
      "Epoch 27/40, Loss: 0.0123\n",
      "Epoch 28/40, Loss: 0.0121\n",
      "Epoch 29/40, Loss: 0.0119\n",
      "Epoch 30/40, Loss: 0.0117\n",
      "Epoch 31/40, Loss: 0.0116\n",
      "Epoch 32/40, Loss: 0.0114\n",
      "Epoch 33/40, Loss: 0.0113\n",
      "Epoch 34/40, Loss: 0.0111\n",
      "Epoch 35/40, Loss: 0.0110\n",
      "Epoch 36/40, Loss: 0.0109\n",
      "Epoch 37/40, Loss: 0.0108\n",
      "Epoch 38/40, Loss: 0.0107\n",
      "Epoch 39/40, Loss: 0.0106\n",
      "Epoch 40/40, Loss: 0.0105\n",
      "Test Accuracy: 99.80%\n"
     ]
    }
   ],
   "source": [
    "# Define a callback to track loss during training\n",
    "class LossCallback(keras.callbacks.Callback):\n",
    "    def on_epoch_end(self, epoch, logs=None):\n",
    "        print(f'Epoch {epoch+1}/{self.params[\"epochs\"]}, Loss: {logs[\"loss\"]:.4f}')\n",
    "\n",
    "# Build the Logistic Regression Model\n",
    "model = keras.Sequential([\n",
    "    keras.layers.Dense(units=1, input_shape=(5,), activation='sigmoid')\n",
    "])\n",
    "\n",
    "# Compile the Model\n",
    "model.compile(optimizer='adam',\n",
    "              loss='binary_crossentropy',\n",
    "              metrics=['accuracy'])\n",
    "\n",
    "# Train the Model\n",
    "history = model.fit(x_train, y_train, epochs=40, batch_size=32, verbose=0, \n",
    "                    callbacks=[LossCallback()],\n",
    "                    validation_data=(x_val, y_val))\n",
    "\n",
    "# Evaluate the Model\n",
    "test_loss, test_accuracy = model.evaluate(x_test, y_test, verbose=0)\n",
    "print(f'Test Accuracy: {test_accuracy * 100:.2f}%')"
   ]
  },
  {
   "cell_type": "code",
   "execution_count": 40,
   "id": "d703e3ff",
   "metadata": {},
   "outputs": [
    {
     "data": {
      "image/png": "[encoded data removed]",
      "text/plain": [
       "<Figure size 640x480 with 1 Axes>"
      ]
     },
     "metadata": {},
     "output_type": "display_data"
    }
   ],
   "source": [
    "# Get the loss values from the training history\n",
    "training_loss = history.history['loss']\n",
    "\n",
    "# Plot the loss graph\n",
    "plt.plot(training_loss)\n",
    "plt.title('Training Loss')\n",
    "plt.xlabel('Epoch')\n",
    "plt.ylabel('Loss')\n",
    "plt.show()"
   ]
  },
  {
   "cell_type": "code",
   "execution_count": 41,
   "id": "dc9bf3fa",
   "metadata": {},
   "outputs": [
    {
     "data": {
      "image/png": "[encoded data removed]",
      "text/plain": [
       "<Figure size 640x480 with 1 Axes>"
      ]
     },
     "metadata": {},
     "output_type": "display_data"
    }
   ],
   "source": [
    "plt.plot(history.history['accuracy'], label='Training Accuracy')\n",
    "plt.plot(history.history['val_accuracy'], label='Validation Accuracy')\n",
    "plt.title('Training and Validation Accuracy')\n",
    "plt.xlabel('Epoch')\n",
    "plt.ylabel('Accuracy')\n",
    "plt.legend()\n",
    "plt.show()"
   ]
  },
  {
   "cell_type": "code",
   "execution_count": 42,
   "id": "60911e16",
   "metadata": {},
   "outputs": [
    {
     "name": "stdout",
     "output_type": "stream",
     "text": [
      "2387/2387 [==============================] - 1s 528us/step\n"
     ]
    }
   ],
   "source": [
    "y_pred = model.predict(x_test)"
   ]
  },
  {
   "cell_type": "code",
   "execution_count": 43,
   "id": "9a43a798",
   "metadata": {
    "scrolled": true
   },
   "outputs": [
    {
     "name": "stdout",
     "output_type": "stream",
     "text": [
      "              precision    recall  f1-score   support\n",
      "\n",
      "         0.0       0.96      1.00      0.98      3819\n",
      "         1.0       1.00      1.00      1.00     72553\n",
      "\n",
      "    accuracy                           1.00     76372\n",
      "   macro avg       0.98      1.00      0.99     76372\n",
      "weighted avg       1.00      1.00      1.00     76372\n",
      "\n"
     ]
    }
   ],
   "source": [
    "from sklearn.metrics import classification_report\n",
    "print(classification_report(y_test, np.round(y_pred)))"
   ]
  },
  {
   "cell_type": "code",
   "execution_count": 44,
   "id": "ea06fcde",
   "metadata": {},
   "outputs": [
    {
     "data": {
      "text/plain": [
       "array([[ 3808,    11],\n",
       "       [  141, 72412]], dtype=int64)"
      ]
     },
     "execution_count": 44,
     "metadata": {},
     "output_type": "execute_result"
    }
   ],
   "source": [
    "cm = confusion_matrix(y_test, np.round(y_pred))\n",
    "cm"
   ]
  },
  {
   "cell_type": "code",
   "execution_count": 47,
   "id": "783c2572",
   "metadata": {},
   "outputs": [
    {
     "data": {
      "image/png": "[encoded data removed]",
      "text/plain": [
       "<Figure size 500x300 with 2 Axes>"
      ]
     },
     "metadata": {},
     "output_type": "display_data"
    }
   ],
   "source": [
    "# create heat map\n",
    "plt.figure(figsize=(5,3))  # Set the figure size\n",
    "sns.heatmap(cm, annot=True, fmt='d', cmap='viridis', \n",
    "            xticklabels=['Predicted 0', 'Predicted 1'],\n",
    "            yticklabels=['Actual 0', 'Actual 1'])\n",
    "plt.xlabel('Predicted label')\n",
    "plt.ylabel('Actual label')\n",
    "plt.title('Confusion Matrix')\n",
    "plt.show()"
   ]
  },
  {
   "cell_type": "markdown",
   "id": "3ea63644",
   "metadata": {},
   "source": [
    "# Data for UMAP"
   ]
  },
  {
   "cell_type": "code",
   "execution_count": 63,
   "id": "dae1b0bb",
   "metadata": {},
   "outputs": [],
   "source": [
    "import csv"
   ]
  },
  {
   "cell_type": "code",
   "execution_count": 64,
   "id": "0b7d0204",
   "metadata": {},
   "outputs": [],
   "source": [
    "# undersample\n",
    "target_sample = 500000\n",
    "df_sample = dfs.sample(n = target_sample, random_state=40)"
   ]
  },
  {
   "cell_type": "code",
   "execution_count": 65,
   "id": "f50ed3b0",
   "metadata": {},
   "outputs": [],
   "source": [
    "# transform the dataset\n",
    "df_X_sample = df_sample.drop(columns='Threat_Binary')\n",
    "X_sampled = scaler.transform(df_X_sample)\n",
    "df_X_sample_scaled = pd.DataFrame(X_sampled, columns=df_X_sample.columns)"
   ]
  },
  {
   "cell_type": "code",
   "execution_count": 66,
   "id": "0bab5c2c",
   "metadata": {},
   "outputs": [
    {
     "data": {
      "text/html": [
       "<div>\n",
       "<style scoped>\n",
       "    .dataframe tbody tr th:only-of-type {\n",
       "        vertical-align: middle;\n",
       "    }\n",
       "\n",
       "    .dataframe tbody tr th {\n",
       "        vertical-align: top;\n",
       "    }\n",
       "\n",
       "    .dataframe thead th {\n",
       "        text-align: right;\n",
       "    }\n",
       "</style>\n",
       "<table border=\"1\" class=\"dataframe\">\n",
       "  <thead>\n",
       "    <tr style=\"text-align: right;\">\n",
       "      <th></th>\n",
       "      <th>MI_dir_L5_weight</th>\n",
       "      <th>MI_dir_L5_mean</th>\n",
       "      <th>MI_dir_L5_variance</th>\n",
       "      <th>MI_dir_L3_weight</th>\n",
       "      <th>MI_dir_L3_mean</th>\n",
       "      <th>MI_dir_L3_variance</th>\n",
       "      <th>MI_dir_L1_weight</th>\n",
       "      <th>MI_dir_L1_mean</th>\n",
       "      <th>MI_dir_L1_variance</th>\n",
       "      <th>MI_dir_L0.1_weight</th>\n",
       "      <th>...</th>\n",
       "      <th>HpHp_L0.1_covariance</th>\n",
       "      <th>HpHp_L0.1_pcc</th>\n",
       "      <th>HpHp_L0.01_weight</th>\n",
       "      <th>HpHp_L0.01_mean</th>\n",
       "      <th>HpHp_L0.01_std</th>\n",
       "      <th>HpHp_L0.01_magnitude</th>\n",
       "      <th>HpHp_L0.01_radius</th>\n",
       "      <th>HpHp_L0.01_covariance</th>\n",
       "      <th>HpHp_L0.01_pcc</th>\n",
       "      <th>Threat</th>\n",
       "    </tr>\n",
       "  </thead>\n",
       "  <tbody>\n",
       "    <tr>\n",
       "      <th>0</th>\n",
       "      <td>0.381282</td>\n",
       "      <td>1.701141e-02</td>\n",
       "      <td>0.000007</td>\n",
       "      <td>0.515522</td>\n",
       "      <td>1.787152e-02</td>\n",
       "      <td>0.000007</td>\n",
       "      <td>0.801206</td>\n",
       "      <td>2.298252e-02</td>\n",
       "      <td>0.000009</td>\n",
       "      <td>0.965924</td>\n",
       "      <td>...</td>\n",
       "      <td>0.067044</td>\n",
       "      <td>0.361561</td>\n",
       "      <td>0.000030</td>\n",
       "      <td>1.648999e-02</td>\n",
       "      <td>4.682399e-09</td>\n",
       "      <td>2.894939e-02</td>\n",
       "      <td>1.897275e-18</td>\n",
       "      <td>0.007392</td>\n",
       "      <td>0.2612</td>\n",
       "      <td>0.1</td>\n",
       "    </tr>\n",
       "    <tr>\n",
       "      <th>1</th>\n",
       "      <td>0.500628</td>\n",
       "      <td>3.154982e-01</td>\n",
       "      <td>0.349779</td>\n",
       "      <td>0.562530</td>\n",
       "      <td>3.487084e-01</td>\n",
       "      <td>0.348001</td>\n",
       "      <td>0.726448</td>\n",
       "      <td>4.997527e-01</td>\n",
       "      <td>0.332712</td>\n",
       "      <td>0.819128</td>\n",
       "      <td>...</td>\n",
       "      <td>0.067044</td>\n",
       "      <td>0.361561</td>\n",
       "      <td>0.000000</td>\n",
       "      <td>5.818610e-01</td>\n",
       "      <td>0.000000e+00</td>\n",
       "      <td>4.054946e-01</td>\n",
       "      <td>0.000000e+00</td>\n",
       "      <td>0.007392</td>\n",
       "      <td>0.2612</td>\n",
       "      <td>0.9</td>\n",
       "    </tr>\n",
       "    <tr>\n",
       "      <th>2</th>\n",
       "      <td>0.220191</td>\n",
       "      <td>5.089286e-01</td>\n",
       "      <td>0.177819</td>\n",
       "      <td>0.293661</td>\n",
       "      <td>4.645467e-01</td>\n",
       "      <td>0.271492</td>\n",
       "      <td>0.478851</td>\n",
       "      <td>4.949582e-01</td>\n",
       "      <td>0.334677</td>\n",
       "      <td>0.627160</td>\n",
       "      <td>...</td>\n",
       "      <td>0.067044</td>\n",
       "      <td>0.361561</td>\n",
       "      <td>0.900229</td>\n",
       "      <td>5.818610e-01</td>\n",
       "      <td>2.247551e-07</td>\n",
       "      <td>4.054946e-01</td>\n",
       "      <td>4.371321e-15</td>\n",
       "      <td>0.007392</td>\n",
       "      <td>0.2612</td>\n",
       "      <td>1.0</td>\n",
       "    </tr>\n",
       "    <tr>\n",
       "      <th>3</th>\n",
       "      <td>0.000000</td>\n",
       "      <td>8.326673e-17</td>\n",
       "      <td>0.000000</td>\n",
       "      <td>0.000000</td>\n",
       "      <td>9.714451e-17</td>\n",
       "      <td>0.000000</td>\n",
       "      <td>0.000000</td>\n",
       "      <td>1.387779e-17</td>\n",
       "      <td>0.000000</td>\n",
       "      <td>0.000000</td>\n",
       "      <td>...</td>\n",
       "      <td>0.067044</td>\n",
       "      <td>0.361561</td>\n",
       "      <td>0.000000</td>\n",
       "      <td>2.775558e-17</td>\n",
       "      <td>0.000000e+00</td>\n",
       "      <td>2.081668e-17</td>\n",
       "      <td>0.000000e+00</td>\n",
       "      <td>0.007392</td>\n",
       "      <td>0.2612</td>\n",
       "      <td>0.4</td>\n",
       "    </tr>\n",
       "    <tr>\n",
       "      <th>4</th>\n",
       "      <td>0.317700</td>\n",
       "      <td>5.184515e-01</td>\n",
       "      <td>0.191325</td>\n",
       "      <td>0.410079</td>\n",
       "      <td>4.921179e-01</td>\n",
       "      <td>0.265977</td>\n",
       "      <td>0.629865</td>\n",
       "      <td>5.666436e-01</td>\n",
       "      <td>0.319487</td>\n",
       "      <td>0.792445</td>\n",
       "      <td>...</td>\n",
       "      <td>0.067044</td>\n",
       "      <td>0.361561</td>\n",
       "      <td>0.000000</td>\n",
       "      <td>5.959953e-01</td>\n",
       "      <td>0.000000e+00</td>\n",
       "      <td>4.153447e-01</td>\n",
       "      <td>0.000000e+00</td>\n",
       "      <td>0.007392</td>\n",
       "      <td>0.2612</td>\n",
       "      <td>0.6</td>\n",
       "    </tr>\n",
       "  </tbody>\n",
       "</table>\n",
       "<p>5 rows × 116 columns</p>\n",
       "</div>"
      ],
      "text/plain": [
       "   MI_dir_L5_weight  MI_dir_L5_mean  MI_dir_L5_variance  MI_dir_L3_weight  \\\n",
       "0          0.381282    1.701141e-02            0.000007          0.515522   \n",
       "1          0.500628    3.154982e-01            0.349779          0.562530   \n",
       "2          0.220191    5.089286e-01            0.177819          0.293661   \n",
       "3          0.000000    8.326673e-17            0.000000          0.000000   \n",
       "4          0.317700    5.184515e-01            0.191325          0.410079   \n",
       "\n",
       "   MI_dir_L3_mean  MI_dir_L3_variance  MI_dir_L1_weight  MI_dir_L1_mean  \\\n",
       "0    1.787152e-02            0.000007          0.801206    2.298252e-02   \n",
       "1    3.487084e-01            0.348001          0.726448    4.997527e-01   \n",
       "2    4.645467e-01            0.271492          0.478851    4.949582e-01   \n",
       "3    9.714451e-17            0.000000          0.000000    1.387779e-17   \n",
       "4    4.921179e-01            0.265977          0.629865    5.666436e-01   \n",
       "\n",
       "   MI_dir_L1_variance  MI_dir_L0.1_weight  ...  HpHp_L0.1_covariance  \\\n",
       "0            0.000009            0.965924  ...              0.067044   \n",
       "1            0.332712            0.819128  ...              0.067044   \n",
       "2            0.334677            0.627160  ...              0.067044   \n",
       "3            0.000000            0.000000  ...              0.067044   \n",
       "4            0.319487            0.792445  ...              0.067044   \n",
       "\n",
       "   HpHp_L0.1_pcc  HpHp_L0.01_weight  HpHp_L0.01_mean  HpHp_L0.01_std  \\\n",
       "0       0.361561           0.000030     1.648999e-02    4.682399e-09   \n",
       "1       0.361561           0.000000     5.818610e-01    0.000000e+00   \n",
       "2       0.361561           0.900229     5.818610e-01    2.247551e-07   \n",
       "3       0.361561           0.000000     2.775558e-17    0.000000e+00   \n",
       "4       0.361561           0.000000     5.959953e-01    0.000000e+00   \n",
       "\n",
       "   HpHp_L0.01_magnitude  HpHp_L0.01_radius  HpHp_L0.01_covariance  \\\n",
       "0          2.894939e-02       1.897275e-18               0.007392   \n",
       "1          4.054946e-01       0.000000e+00               0.007392   \n",
       "2          4.054946e-01       4.371321e-15               0.007392   \n",
       "3          2.081668e-17       0.000000e+00               0.007392   \n",
       "4          4.153447e-01       0.000000e+00               0.007392   \n",
       "\n",
       "   HpHp_L0.01_pcc  Threat  \n",
       "0          0.2612     0.1  \n",
       "1          0.2612     0.9  \n",
       "2          0.2612     1.0  \n",
       "3          0.2612     0.4  \n",
       "4          0.2612     0.6  \n",
       "\n",
       "[5 rows x 116 columns]"
      ]
     },
     "execution_count": 66,
     "metadata": {},
     "output_type": "execute_result"
    }
   ],
   "source": [
    "df_X_sample_scaled.head()"
   ]
  },
  {
   "cell_type": "code",
   "execution_count": 67,
   "id": "1bfcb9d8",
   "metadata": {},
   "outputs": [],
   "source": [
    "# extract features from data\n",
    "cols = list(df_X_train.columns[selected_indices])\n",
    "cols_label = list(df_X_train.columns[selected_indices]) + ['Threat_Binary']\n",
    "df_features = pd.concat([df_X_sample_scaled.loc[:,cols], df_sample['Threat_Binary'].reset_index()], axis=1).drop(columns='index')"
   ]
  },
  {
   "cell_type": "code",
   "execution_count": 68,
   "id": "73e01191",
   "metadata": {},
   "outputs": [
    {
     "data": {
      "text/html": [
       "<div>\n",
       "<style scoped>\n",
       "    .dataframe tbody tr th:only-of-type {\n",
       "        vertical-align: middle;\n",
       "    }\n",
       "\n",
       "    .dataframe tbody tr th {\n",
       "        vertical-align: top;\n",
       "    }\n",
       "\n",
       "    .dataframe thead th {\n",
       "        text-align: right;\n",
       "    }\n",
       "</style>\n",
       "<table border=\"1\" class=\"dataframe\">\n",
       "  <thead>\n",
       "    <tr style=\"text-align: right;\">\n",
       "      <th></th>\n",
       "      <th>MI_dir_L0.1_weight</th>\n",
       "      <th>HH_L0.1_weight</th>\n",
       "      <th>HH_L0.01_weight</th>\n",
       "      <th>HH_jit_L0.01_weight</th>\n",
       "      <th>HH_jit_L0.01_mean</th>\n",
       "      <th>Threat_Binary</th>\n",
       "    </tr>\n",
       "  </thead>\n",
       "  <tbody>\n",
       "    <tr>\n",
       "      <th>0</th>\n",
       "      <td>0.965924</td>\n",
       "      <td>0.966000</td>\n",
       "      <td>0.741412</td>\n",
       "      <td>0.741412</td>\n",
       "      <td>0.000019</td>\n",
       "      <td>1</td>\n",
       "    </tr>\n",
       "    <tr>\n",
       "      <th>1</th>\n",
       "      <td>0.819128</td>\n",
       "      <td>0.535889</td>\n",
       "      <td>0.753909</td>\n",
       "      <td>0.753909</td>\n",
       "      <td>0.000008</td>\n",
       "      <td>1</td>\n",
       "    </tr>\n",
       "    <tr>\n",
       "      <th>2</th>\n",
       "      <td>0.627160</td>\n",
       "      <td>0.355208</td>\n",
       "      <td>0.509004</td>\n",
       "      <td>0.509004</td>\n",
       "      <td>0.000012</td>\n",
       "      <td>1</td>\n",
       "    </tr>\n",
       "    <tr>\n",
       "      <th>3</th>\n",
       "      <td>0.000000</td>\n",
       "      <td>0.000000</td>\n",
       "      <td>0.000000</td>\n",
       "      <td>0.000000</td>\n",
       "      <td>0.998842</td>\n",
       "      <td>1</td>\n",
       "    </tr>\n",
       "    <tr>\n",
       "      <th>4</th>\n",
       "      <td>0.792445</td>\n",
       "      <td>0.522032</td>\n",
       "      <td>0.713028</td>\n",
       "      <td>0.713028</td>\n",
       "      <td>0.000010</td>\n",
       "      <td>1</td>\n",
       "    </tr>\n",
       "  </tbody>\n",
       "</table>\n",
       "</div>"
      ],
      "text/plain": [
       "   MI_dir_L0.1_weight  HH_L0.1_weight  HH_L0.01_weight  HH_jit_L0.01_weight  \\\n",
       "0            0.965924        0.966000         0.741412             0.741412   \n",
       "1            0.819128        0.535889         0.753909             0.753909   \n",
       "2            0.627160        0.355208         0.509004             0.509004   \n",
       "3            0.000000        0.000000         0.000000             0.000000   \n",
       "4            0.792445        0.522032         0.713028             0.713028   \n",
       "\n",
       "   HH_jit_L0.01_mean  Threat_Binary  \n",
       "0           0.000019              1  \n",
       "1           0.000008              1  \n",
       "2           0.000012              1  \n",
       "3           0.998842              1  \n",
       "4           0.000010              1  "
      ]
     },
     "execution_count": 68,
     "metadata": {},
     "output_type": "execute_result"
    }
   ],
   "source": [
    "df_features.head(5)"
   ]
  },
  {
   "cell_type": "code",
   "execution_count": 69,
   "id": "30b42a33",
   "metadata": {},
   "outputs": [
    {
     "data": {
      "text/plain": [
       "Threat_Binary\n",
       "1    475792\n",
       "0     24208\n",
       "Name: count, dtype: int64"
      ]
     },
     "execution_count": 69,
     "metadata": {},
     "output_type": "execute_result"
    }
   ],
   "source": [
    "# find distribution\n",
    "df_features['Threat_Binary'].value_counts()"
   ]
  },
  {
   "cell_type": "code",
   "execution_count": 70,
   "id": "e3cdb098",
   "metadata": {},
   "outputs": [],
   "source": [
    "combined_array = np.round(df_features.to_numpy(),3)\n",
    "\n",
    "# Define column names\n",
    "col_names = ['MI_dir_L0.1_weight', 'HH_L0.1_weight', 'HH_L0.01_weight', 'HH_jit_L0.01_weight', 'HH_jit_L0.01_mean', 'labels']"
   ]
  },
  {
   "cell_type": "code",
   "execution_count": 71,
   "id": "49b0db20",
   "metadata": {},
   "outputs": [
    {
     "data": {
      "text/plain": [
       "(500000, 6)"
      ]
     },
     "execution_count": 71,
     "metadata": {},
     "output_type": "execute_result"
    }
   ],
   "source": [
    "combined_array.shape"
   ]
  },
  {
   "cell_type": "code",
   "execution_count": 72,
   "id": "a64cb8ea",
   "metadata": {},
   "outputs": [],
   "source": [
    "file_path = 'data/features_meta.tsv'\n",
    "\n",
    "# Write the combined NumPy array to the TSV file\n",
    "with open(file_path, 'w', newline='') as file:\n",
    "\n",
    "    writer = csv.writer(file, delimiter='\\t')\n",
    "    writer.writerow(col_names)\n",
    "    \n",
    "    for row in combined_array:\n",
    "        writer.writerow(row)  # Write the row string followed by a newline character"
   ]
  },
  {
   "cell_type": "code",
   "execution_count": 73,
   "id": "4c4cb781",
   "metadata": {},
   "outputs": [],
   "source": [
    "file_path = 'data/features_data.tsv'\n",
    "\n",
    "# Write the combined NumPy array to the TSV file\n",
    "with open(file_path, 'w', newline='') as file:\n",
    "\n",
    "    writer = csv.writer(file, delimiter='\\t')\n",
    "    for row in combined_array:\n",
    "        writer.writerow(row)  # Write the row string followed by a newline character"
   ]
  }
 ],
 "metadata": {
  "kernelspec": {
   "display_name": "venv",
   "language": "python",
   "name": "venv"
  },
  "language_info": {
   "codemirror_mode": {
    "name": "ipython",
    "version": 3
   },
   "file_extension": ".py",
   "mimetype": "text/x-python",
   "name": "python",
   "nbconvert_exporter": "python",
   "pygments_lexer": "ipython3",
   "version": "3.10.0"
  }
 },
 "nbformat": 4,
 "nbformat_minor": 5
}
